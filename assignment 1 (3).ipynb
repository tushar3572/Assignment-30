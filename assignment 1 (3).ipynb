{
 "cells": [
  {
   "cell_type": "code",
   "execution_count": null,
   "id": "f71f16db-278d-4fb7-be16-4fc348d352f5",
   "metadata": {},
   "outputs": [],
   "source": [
    "    #Answer : 1\n",
    "    \n",
    "Bayes' theorem describes the probability of occurrence of an event related to any condition. \n",
    "It is also considered for the case of conditional probability.\n",
    "Bayes theorem is also known as the formula for the probability of “causes”.    "
   ]
  },
  {
   "cell_type": "code",
   "execution_count": null,
   "id": "6b3eeabe-43c3-487b-aa8a-58b109b1a56d",
   "metadata": {},
   "outputs": [],
   "source": [
    "    #Answer : 2\n",
    "    \n",
    "P(B) = P(A) × P(B|A) + P(not A) × P(B|not A)     "
   ]
  },
  {
   "cell_type": "code",
   "execution_count": null,
   "id": "0d991e2b-66b2-433b-a341-77a62b51e675",
   "metadata": {},
   "outputs": [],
   "source": [
    "    #Answer : 3\n",
    "    \n",
    "Applications of Bayes' Theorem are widespread and not limited to the financial realm.\n",
    "For example, Bayes' theorem can be used to determine the accuracy of medical test results by taking into \n",
    "consideration how likely any given person is to have a disease and the general accuracy of the test.    "
   ]
  },
  {
   "cell_type": "code",
   "execution_count": null,
   "id": "e436c5df-84f6-4ca2-aa8f-0f4bc2215e37",
   "metadata": {},
   "outputs": [],
   "source": [
    "    #Answer : 4\n",
    "    \n",
    "The probability of occurrence of any event A when another event B in relation to A has already occurred is known\n",
    "as conditional probability.\t\n",
    "\n",
    "\n",
    "Bayes theorem is a mathematical formula, which is used to determine the conditional probability of a given event.    "
   ]
  },
  {
   "cell_type": "code",
   "execution_count": null,
   "id": "dff393f9-20dd-48a0-9d60-39c11f8cf40c",
   "metadata": {},
   "outputs": [],
   "source": [
    "    #Answer : 5\n",
    "    \n",
    "1.Gaussian Naive Bayes: This classifier assumes that the features follow a normal distribution.\n",
    "It's suitable when dealing with continuous numerical features. If your features are continuous and approximately \n",
    "normally distributed, Gaussian Naive Bayes can be a good choice.\n",
    "\n",
    "2.Multinomial Naive Bayes: This classifier is appropriate when the features are categorical or discrete counts.\n",
    "It's commonly used for text classification tasks, where features represent word counts or frequencies. \n",
    "If your features are counts or frequencies, Multinomial Naive Bayes can be a good choice.\n",
    "\n",
    "3.Bernoulli Naive Bayes: Similar to Multinomial Naive Bayes, but it assumes that features are binary variables.\n",
    "It's suitable for binary feature vectors, where each feature represents the presence or absence of a particular term. If your features are binary and represent presence or absence of certain attributes, Bernoulli Naive Bayes might be a good choice.   "
   ]
  }
 ],
 "metadata": {
  "kernelspec": {
   "display_name": "Python 3 (ipykernel)",
   "language": "python",
   "name": "python3"
  },
  "language_info": {
   "codemirror_mode": {
    "name": "ipython",
    "version": 3
   },
   "file_extension": ".py",
   "mimetype": "text/x-python",
   "name": "python",
   "nbconvert_exporter": "python",
   "pygments_lexer": "ipython3",
   "version": "3.10.8"
  }
 },
 "nbformat": 4,
 "nbformat_minor": 5
}
